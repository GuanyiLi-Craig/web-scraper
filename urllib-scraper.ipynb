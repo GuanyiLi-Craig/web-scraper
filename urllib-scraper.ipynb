{
 "cells": [
  {
   "cell_type": "code",
   "execution_count": 20,
   "metadata": {},
   "outputs": [],
   "source": [
    "import urllib.request as req\n",
    "import urllib\n",
    "import json"
   ]
  },
  {
   "cell_type": "code",
   "execution_count": 4,
   "metadata": {},
   "outputs": [
    {
     "data": {
      "text/plain": [
       "('google.html', <http.client.HTTPMessage at 0x1d7995ab460>)"
      ]
     },
     "execution_count": 4,
     "metadata": {},
     "output_type": "execute_result"
    }
   ],
   "source": [
    "# Retrieve data and save it as file\n",
    "urlPage = 'http://www.google.com'\n",
    "req.urlretrieve(url=urlPage, filename = 'google.html')"
   ]
  },
  {
   "cell_type": "markdown",
   "metadata": {},
   "source": [
    "## Component of URL\n",
    "\n",
    "1. Scheme\n",
    "      1. http/https\n",
    "2. Host\n",
    "      1. the host name/IP (DNS), such as www.google.com\n",
    "3. Port\n",
    "4. Path\n",
    "5. Query String\n"
   ]
  },
  {
   "cell_type": "code",
   "execution_count": null,
   "metadata": {},
   "outputs": [],
   "source": [
    "# Request with customized object\n",
    "urlPage = 'https://www.google.com'\n",
    "headers = {\n",
    "    'User-Agent': 'Mozilla/5.0 (Windows NT 10.0; Win64; x64) AppleWebKit/537.36 (KHTML, like Gecko) Chrome/93.0.4577.63 Safari/537.36'\n",
    "}\n",
    "request = req.Request(url=urlPage, headers=headers)\n",
    "response = req.urlopen(request)\n",
    "content = response.read()\n",
    "print( content )"
   ]
  },
  {
   "cell_type": "markdown",
   "metadata": {},
   "source": [
    "## Encode and Decode\n",
    "1. Get request\n",
    "    1. `urllib.parse.quote`\n",
    "    2. `urllib.parse.urlencode`"
   ]
  },
  {
   "cell_type": "code",
   "execution_count": 10,
   "metadata": {},
   "outputs": [],
   "source": [
    "# Request with arguments - Quote\n",
    "urlPageBase = 'https://www.google.com/search?q='\n",
    "\n",
    "#requestString = 'uk+covid+vaccination+rate'\n",
    "requestString = '哈利波特'\n"
   ]
  },
  {
   "cell_type": "code",
   "execution_count": null,
   "metadata": {},
   "outputs": [],
   "source": [
    "urlPage = urlPageBase + urllib.parse.quote(requestString)\n",
    "\n",
    "headers = {\n",
    "    'User-Agent': 'Mozilla/5.0 (Windows NT 10.0; Win64; x64) AppleWebKit/537.36 (KHTML, like Gecko) Chrome/93.0.4577.63 Safari/537.36'\n",
    "}\n",
    "request = req.Request(url=urlPage, headers=headers)\n",
    "response = req.urlopen(request)\n",
    "content = response.read().decode('utf-8')\n",
    "print( content )"
   ]
  },
  {
   "cell_type": "code",
   "execution_count": 12,
   "metadata": {},
   "outputs": [],
   "source": [
    "# Request with argument - urlencode\n",
    "urlPageBase = 'https://www.google.com/search?q='\n",
    "data = {\n",
    "    'q': '哈利波特',\n",
    "    'location': '中国'\n",
    "}"
   ]
  },
  {
   "cell_type": "code",
   "execution_count": null,
   "metadata": {},
   "outputs": [],
   "source": [
    "urlPage = urlPageBase + urllib.parse.urlencode(data)\n",
    "\n",
    "headers = {\n",
    "    'User-Agent': 'Mozilla/5.0 (Windows NT 10.0; Win64; x64) AppleWebKit/537.36 (KHTML, like Gecko) Chrome/93.0.4577.63 Safari/537.36'\n",
    "}\n",
    "request = req.Request(url=urlPage, headers=headers)\n",
    "response = req.urlopen(request)\n",
    "content = response.read().decode('utf-8')\n",
    "print( content )"
   ]
  },
  {
   "cell_type": "markdown",
   "metadata": {},
   "source": [
    "## Post Request\n",
    "1. data has to be as bytes\n",
    "    1. `urllib.parse.urlencode(data).encode('utf-8')`\n",
    "2. Request arguments\n",
    "    1. `urllib.request.Request(url=url, data = data, headers = headers)`"
   ]
  },
  {
   "cell_type": "code",
   "execution_count": null,
   "metadata": {},
   "outputs": [],
   "source": [
    "urlPostBase = 'https://translate.google.co.uk'\n",
    "headers = {\n",
    "    'User-Agent': 'Mozilla/5.0 (Windows NT 10.0; Win64; x64) AppleWebKit/537.36 (KHTML, like Gecko) Chrome/93.0.4577.63 Safari/537.36'\n",
    "}\n",
    "dataObj = {\n",
    "    'f.req':'[[[\"AVdN8\",\"[\\\"吃口香糖\\\",\\\"zh-CN\\\",\\\"en\\\"]\",null,\"generic\"]]]',\n",
    "    'at':'AD08yZkmhOm74hvLX1GP5g5106qa:1631451748258'\n",
    "}\n",
    "data = urllib.parse.urlencode(dataObj).encode('utf-8')\n",
    "request = req.Request(url=urlPostBase, data=data, headers=headers)\n",
    "response = req.urlopen(request)\n",
    "content = response.read().decode('utf-8')\n",
    "jsonContent = json.dumps(content)\n",
    "print( jsonContent )"
   ]
  },
  {
   "cell_type": "markdown",
   "metadata": {},
   "source": [
    "## Urllib Ajax\n"
   ]
  },
  {
   "cell_type": "code",
   "execution_count": null,
   "metadata": {},
   "outputs": [],
   "source": [
    "urlPostBase = 'https://api.graphql.imdb.com/'\n",
    "headers = {\n",
    "    'accept': '*/*',\n",
    "    'accept-encoding': 'gzip, deflate, br',\n",
    "    'accept-language': 'en-GB,en;q=0.9,en-US;q=0.8,zh-CN;q=0.7,zh;q=0.6',\n",
    "    'content-length': 1289,\n",
    "    'content-type': 'application/json',\n",
    "    'cookie': 'session-id=144-3076518-0660869; session-id-time=2082787201l; ubid-main=133-6385703-8891169; session-token=aRdPlXRAyTEWgvYnr1G9CclXBW4ALZe/G8TFpfCd0YMILTmAxUeetr6E7TIoTS+ZZ1QLqh8jCclPjnGPCA65XYUil0j5AXjm9Auxs7x+pAHu0tDTcnbjqGUncFH+Lk0AkDaLp6qwsR7ykufYWEQbBv6LGibafTs4YsoBNXLHeJSImIuSM9ljWF8YhasdZIfa',\n",
    "    'dnt': 1,\n",
    "    'origin': 'https://www.imdb.com',\n",
    "    'referer': 'https://www.imdb.com/',\n",
    "    'sec-ch-ua': '\"Google Chrome\";v=\"93\", \" Not;A Brand\";v=\"99\", \"Chromium\";v=\"93\"',\n",
    "    'sec-ch-ua-mobile': '?0',\n",
    "    'sec-ch-ua-platform': '\"Windows\"',\n",
    "    'sec-fetch-dest': 'empty',\n",
    "    'sec-fetch-mode': 'cors',\n",
    "    'sec-fetch-site': 'same-site',\n",
    "    'user-agent': 'Mozilla/5.0 (Windows NT 10.0; Win64; x64) AppleWebKit/537.36 (KHTML, like Gecko) Chrome/93.0.4577.63 Safari/537.36',\n",
    "    'x-amzn-sessionid': '144-3076518-0660869',\n",
    "    'x-imdb-client-name': 'imdb-web-next',\n",
    "    'x-imdb-user-country': 'GB',\n",
    "    'x-imdb-user-language': 'en-GB',\n",
    "}\n",
    "dataObj = {\n",
    "    'query':'query FanFavorites($first: Int!, $after: ID) {\\n  fanPicksTitles(first: $first, after: $after) {\\n    edges {\\n      node {\\n        ...BaseTitleCard\\n        ...TitleCardTrailer\\n        ...TitleWatchOption\\n        ...PersonalizedTitleCardUserRating\\n        __typename\\n      }\\n      __typename\\n    }\\n    __typename\\n  }\\n}\\n\\nfragment BaseTitleCard on Title {\\n  id\\n  titleText {\\n    text\\n    __typename\\n  }\\n  titleType {\\n    id\\n    __typename\\n  }\\n  originalTitleText {\\n    text\\n    __typename\\n  }\\n  primaryImage {\\n    id\\n    width\\n    height\\n    url\\n    __typename\\n  }\\n  releaseYear {\\n    year\\n    endYear\\n    __typename\\n  }\\n  ratingsSummary {\\n    aggregateRating\\n    voteCount\\n    __typename\\n  }\\n  runtime {\\n    seconds\\n    __typename\\n  }\\n  certificate {\\n    rating\\n    __typename\\n  }\\n  canRate {\\n    isRatable\\n    __typename\\n  }\\n  canHaveEpisodes\\n}\\n\\nfragment TitleCardTrailer on Title {\\n  latestTrailer {\\n    id\\n    __typename\\n  }\\n}\\n\\nfragment PersonalizedTitleCardUserRating on Title {\\n  userRating {\\n    value\\n    __typename\\n  }\\n}\\n\\nfragment TitleWatchOption on Title {\\n  primaryWatchOption {\\n    additionalWatchOptionsCount\\n    __typename\\n  }\\n}\\n',\n",
    "    'operationName':'FanFavorites',\n",
    "    'variables':{\n",
    "        'first':48\n",
    "    }\n",
    "}\n",
    "\n",
    "data = urllib.parse.urlencode(dataObj).encode('utf-8')\n",
    "request = req.Request(url=urlPostBase, data=data, headers=headers)\n",
    "response = req.urlopen(request)\n",
    "content = response.read().decode('utf-8')\n",
    "print( content )"
   ]
  },
  {
   "cell_type": "code",
   "execution_count": null,
   "metadata": {},
   "outputs": [],
   "source": []
  }
 ],
 "metadata": {
  "kernelspec": {
   "display_name": "Python 3",
   "language": "python",
   "name": "python3"
  },
  "language_info": {
   "codemirror_mode": {
    "name": "ipython",
    "version": 3
   },
   "file_extension": ".py",
   "mimetype": "text/x-python",
   "name": "python",
   "nbconvert_exporter": "python",
   "pygments_lexer": "ipython3",
   "version": "3.8.3"
  }
 },
 "nbformat": 4,
 "nbformat_minor": 4
}
